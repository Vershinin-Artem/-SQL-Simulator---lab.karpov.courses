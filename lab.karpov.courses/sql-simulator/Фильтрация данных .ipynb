{
 "cells": [
  {
   "cell_type": "markdown",
   "id": "a10fcde6-f5e7-48bd-9d1c-e2d8e667c76c",
   "metadata": {},
   "source": [
    "# Фильтрация данных"
   ]
  },
  {
   "cell_type": "markdown",
   "id": "00f21407-645a-4ce0-a8e3-bac39e119973",
   "metadata": {},
   "source": [
    "**Задание №1**\n",
    "\n",
    "Напишите SQL-запрос к таблице **products** и выведите всю информацию о товарах, цена которых не превышает 100 рублей. Результат отсортируйте по возрастанию id товара.\n",
    "\n",
    "Поля в результирующей таблице: **product_id**, **name**, **price**\n",
    "```sql\n",
    "SELECT product_id,\n",
    "       name,\n",
    "       price\n",
    "FROM   products\n",
    "WHERE  price <= 100\n",
    "ORDER BY product_id\n",
    "```"
   ]
  },
  {
   "cell_type": "markdown",
   "id": "35771ae1-51c5-411b-93dc-ccdab9a8f817",
   "metadata": {},
   "source": [
    "**Задание №2**\n",
    "\n",
    "Отберите пользователей женского пола из таблицы users. Выведите только id этих пользователей. Результат отсортируйте по возрастанию id.\n",
    "\n",
    "Добавьте в запрос оператор **LIMIT** и выведите только 1000 первых id из отсортированного списка.\n",
    "\n",
    "Поле в результирующей таблице: **user_id**\n",
    "```sql\n",
    "SELECT user_id\n",
    "FROM   users\n",
    "WHERE  sex = 'female'\n",
    "ORDER BY user_id \n",
    "LIMIT 1000\n",
    "```"
   ]
  },
  {
   "cell_type": "markdown",
   "id": "ab3844b4-8eab-4e73-b040-9b0c1032c20f",
   "metadata": {},
   "source": [
    "**Задание №3**\n",
    "\n",
    "Отберите из таблицы **user_actions** все действия пользователей по созданию заказов, которые были совершены ими после полуночи 6 сентября 2022 года. Выведите колонки с id пользователей, id созданных заказов и временем их создания.\n",
    "\n",
    "Результат должен быть отсортирован по возрастанию id заказа.\n",
    "\n",
    "Поля в результирующей таблице: **user_id**, **order_id**, **time**\n",
    "```sql\n",
    "SELECT user_id,\n",
    "       order_id,\n",
    "       time\n",
    "FROM   user_actions\n",
    "WHERE  action = 'create_order'\n",
    "   AND time >= '2022/09/06 00:00:00'\n",
    "ORDER BY order_id\n",
    "```"
   ]
  },
  {
   "cell_type": "markdown",
   "id": "855282cf-3153-4c38-b666-ead3c6da9ace",
   "metadata": {},
   "source": [
    "**Задание №4**\n",
    "\n",
    "Назначьте скидку 20% на все товары из таблицы **products** и отберите те, цена на которые с учётом скидки превышает 100 рублей. Выведите id товаров, их наименования, прежнюю цену и новую цену с учётом скидки. Колонку со старой ценой назовите **old_price**, с новой — **new_price**.\n",
    "\n",
    "Результат должен быть отсортирован по возрастанию id товара.\n",
    "\n",
    "Поля в результирующей таблице: **product_id**, **name**, **old_price**, **new_price**\n",
    "\n",
    "\n",
    "```sql\n",
    "SELECT product_id,\n",
    "       name,\n",
    "       price AS old_price,\n",
    "       price - ((price * 1.2) - price) AS new_price\n",
    "FROM   products\n",
    "WHERE  price - ((price * 1.2) - price) > 100\n",
    "ORDER BY product_id\n",
    "```"
   ]
  },
  {
   "cell_type": "markdown",
   "id": "e69e5054-c77b-4e5c-8b94-326a3550d539",
   "metadata": {},
   "source": [
    "**Задание №5**\n",
    "\n",
    "Отберите из таблицы **products** все товары, названия которых либо начинаются со слова «чай», либо состоят из пяти символов. Выведите две колонки: id товаров и их наименования.\n",
    "\n",
    "Результат должен быть отсортирован по возрастанию id товара.\n",
    "\n",
    "Поля в результирующей таблице: **product_id**, **name**\n",
    "```sql\n",
    "SELECT product_id,\n",
    "       name\n",
    "FROM   products\n",
    "WHERE  split_part(name, ' ', 1) = 'чай'\n",
    "    or length(name) = 5\n",
    "ORDER BY product_id\n",
    "```"
   ]
  },
  {
   "cell_type": "markdown",
   "id": "419b99cc-ecda-49f9-a7d4-9a895193000d",
   "metadata": {},
   "source": [
    "**Задание №6**\n",
    "\n",
    "Отберите из таблицы **products** все товары, содержащие в своём названии последовательность символов «чай» (без кавычек). Выведите две колонки: id продукта и его название.\n",
    "\n",
    "Результат должен быть отсортирован по возрастанию id товара.\n",
    "\n",
    "Поля в результирующей таблице: **product_id**, **name**\n",
    "```sql\n",
    "SELECT product_id,\n",
    "       name\n",
    "FROM   products\n",
    "WHERE  name like '%чай%'\n",
    "ORDER BY product_id\n",
    "```"
   ]
  },
  {
   "cell_type": "markdown",
   "id": "efa78ba7-67fc-487c-a0d1-92aa068c34ab",
   "metadata": {},
   "source": [
    "**Задание №7**\n",
    "\n",
    "Выберите из таблицы **products id** и наименования только тех товаров, названия которых начинаются на букву «с» и содержат только одно слово.\n",
    "\n",
    "Результат должен быть отсортирован по возрастанию id товара.\n",
    "\n",
    "Поля в результирующей таблице: **product_id**, **name**\n",
    "```sql\n",
    "SELECT product_id,\n",
    "       name\n",
    "FROM   products\n",
    "WHERE  name LIKE 'с%' AND name NOT LIKE '% %'\n",
    "ORDER BY product_id\n",
    "```"
   ]
  },
  {
   "cell_type": "markdown",
   "id": "db1836d7-e3b8-42fa-b850-c5be2790a72f",
   "metadata": {},
   "source": [
    "**Задание №8**\n",
    "\n",
    "Составьте SQL-запрос, который выбирает из таблицы products все чаи стоимостью больше 60 рублей и вычисляет для них цену со скидкой 25%.\n",
    "\n",
    "Скидку в % менеджер попросил указать в отдельном столбце в формате текста, то есть вот так: «25%» (без кавычек). Столбцы со скидкой и новой ценой назовите соответственно **discount** и **new_price**.\n",
    "\n",
    "Также необходимо любым известным способом избавиться от «чайного гриба»: вряд ли менеджер имел в виду и его, когда ставил нам задачу.\n",
    "\n",
    "Результат должен быть отсортирован по возрастанию id товара.\n",
    "\n",
    "Поля в результирующей таблице: **product_id**, **name**, **price**, **discount**, **new_price**\n",
    "```sql\n",
    "SELECT product_id,\n",
    "       name,\n",
    "       price,\n",
    "       '25%' AS discount,\n",
    "       price - ((price * 1.25) - price) AS new_price\n",
    "FROM   products\n",
    "WHERE  price > 60\n",
    "   AND name NOT LIKE '%гриб%'\n",
    "   AND name LIKE '%чай%'\n",
    "ORDER BY product_id\n",
    "```"
   ]
  },
  {
   "cell_type": "markdown",
   "id": "2f78f606-6f00-4d5c-aa9d-229822be22a2",
   "metadata": {},
   "source": [
    "**Задание №9**\n",
    "\n",
    "Из таблицы **user_actions** выведите всю информацию о действиях пользователей с id 170, 200 и 230 за период с 25 августа по 4 сентября 2022 года включительно. Результат отсортируйте по убыванию id заказа — то есть от самых поздних действий к самым первым.\n",
    "\n",
    "Поля в результирующей таблице: **user_id**, **order_id**, **action**, **time**\n",
    "```sql\n",
    "SELECT user_id,\n",
    "       order_id,\n",
    "       action,\n",
    "       time\n",
    "FROM   user_actions\n",
    "WHERE  user_id in (170, 200, 230)\n",
    "   AND time BETWEEN '2022-08-25'\n",
    "   AND '2022-09-05'\n",
    "ORDER BY time DESC\n",
    "```"
   ]
  },
  {
   "cell_type": "markdown",
   "id": "3de9ac4a-b124-47e9-9453-8dfb4d1ae9cd",
   "metadata": {},
   "source": [
    "**Задание №10**\n",
    "\n",
    "Напишите SQL-запрос к таблице **couriers** и выведите всю информацию о курьерах, у которых не указан их день рождения.\n",
    "\n",
    "Результат должен быть отсортирован по возрастанию id курьера.\n",
    "\n",
    "Поля в результирующей таблице: **birth_date**, **courier_id**, **sex**\n",
    "```sql\n",
    "SELECT birth_date,\n",
    "       courier_id,\n",
    "       sex\n",
    "FROM   couriers\n",
    "WHERE  birth_date IS NULL\n",
    "ORDER BY courier_id\n",
    "```"
   ]
  },
  {
   "cell_type": "markdown",
   "id": "fb6888ff-6980-4945-8c4b-37d555151090",
   "metadata": {},
   "source": [
    "**Задание №11**\n",
    "\n",
    "Определите id и даты рождения 50 самых молодых пользователей мужского пола из таблицы **users**. Не учитывайте тех пользователей, у которых не указана дата рождения.\n",
    "\n",
    "Поле в результирующей таблице: **user_id**, **birth_date**\n",
    "```sql\n",
    "SELECT user_id,\n",
    "       birth_date\n",
    "FROM   users\n",
    "WHERE  birth_date IS NOT NULL\n",
    "   AND sex = 'male'\n",
    "ORDER BY birth_date DESC\n",
    "LIMIT 50\n",
    "```"
   ]
  },
  {
   "cell_type": "markdown",
   "id": "cdd5d29c-a8e6-4cd8-839a-ba7fbfb881dc",
   "metadata": {},
   "source": [
    "**Задание №12**\n",
    "\n",
    "Напишите SQL-запрос к таблице **courier_actions**, чтобы узнать id и время доставки последних 10 заказов, доставленных курьером с id 100.\n",
    "\n",
    "Поля в результирующей таблице: **order_id**, **time**\n",
    "```sql\n",
    "SELECT order_id,\n",
    "       time\n",
    "FROM   courier_actions\n",
    "WHERE  courier_id = '100'\n",
    "   AND action = 'deliver_order'\n",
    "ORDER BY time DESC \n",
    "LIMIT 10\n",
    "```"
   ]
  },
  {
   "cell_type": "markdown",
   "id": "61a45f69-6b26-4e84-b8f2-288ea6af57a0",
   "metadata": {},
   "source": [
    "**Задание №13**\n",
    "\n",
    "Из таблицы **user_actions** получите id всех заказов, сделанных пользователями сервиса в августе 2022 года.\n",
    "\n",
    "Результат отсортируйте по возрастанию id заказа.\n",
    "\n",
    "Поле в результирующей таблице: **order_id**\n",
    "```sql\n",
    "SELECT order_id\n",
    "FROM   user_actions\n",
    "WHERE  action = 'create_order'\n",
    "   AND date_part('month', time) = '08'\n",
    "ORDER BY order_id\n",
    "```"
   ]
  },
  {
   "cell_type": "markdown",
   "id": "64f03d6a-1264-440d-9428-dbf59a9d9929",
   "metadata": {},
   "source": [
    "**Задание №14**\n",
    "\n",
    "Из таблицы **couriers** отберите id всех курьеров, родившихся в период с 1990 по 1995 год включительно.\n",
    "\n",
    "Результат отсортируйте по возрастанию id курьера.\n",
    "\n",
    "Поле в результирующей таблице: **courier_id**\n",
    "```sql\n",
    "SELECT courier_id\n",
    "FROM   couriers\n",
    "WHERE  date_part('year', birth_date) BETWEEN '1990' AND '1995'\n",
    "ORDER BY courier_id\n",
    "```"
   ]
  },
  {
   "cell_type": "markdown",
   "id": "c45bea2e-f6c4-41e2-b023-1837a0745068",
   "metadata": {},
   "source": [
    "**Задание №15**\n",
    "\n",
    "Из таблицы **user_actions** получите информацию о всех отменах заказов, которые пользователи совершали в течение августа 2022 года по средам с 12:00 до 15:59.\n",
    "\n",
    "Результат отсортируйте по убыванию id отменённых заказов.\n",
    "\n",
    "Поля в результирующей таблице: **user_id**, **order_id**, **action**, **time**\n",
    "```sql\n",
    "SELECT user_id,\n",
    "       order_id,\n",
    "       action,\n",
    "       time\n",
    "FROM   user_actions\n",
    "WHERE  action = 'cancel_order'\n",
    "   AND date_part('month', time) = '08'\n",
    "   AND date_part('dow', time) = '03'\n",
    "   AND date_part('hour', time) BETWEEN 12\n",
    "   AND 15\n",
    "ORDER BY order_id DESC\n",
    "```"
   ]
  },
  {
   "cell_type": "markdown",
   "id": "fdaf5eba-bd4e-4b73-9580-ec720f1bf991",
   "metadata": {},
   "source": [
    "**Задание №16**\n",
    "\n",
    "Как и в задаче из прошлого урока, вычислите НДС каждого товара в таблице products и рассчитайте цену без учёта НДС. Однако теперь примите во внимание, что для товаров из списка налог составляет 10%. Для остальных товаров НДС тот же — 20%.\n",
    "\n",
    "Выведите всю информацию о товарах, включая сумму налога и цену без его учёта. Колонки с суммой налога и ценой без НДС назовите соответственно tax и **price_before_tax**. Округлите значения в этих колонках до двух знаков после запятой.\n",
    "\n",
    "Результат отсортируйте сначала по убыванию цены товара без учёта НДС, затем по возрастанию id товара.\n",
    "\n",
    "Поля в результирующей таблице: **product_id**, **name**, **price**, **tax**, **price_before_tax**\n",
    "```sql\n",
    "SELECT product_id,\n",
    "       name,\n",
    "       price,\n",
    "       \n",
    "    CASE \n",
    "       WHEN name IN ('сахар', 'сухарики', 'сушки', 'семечки', 'масло льняное', 'виноград', 'масло оливковое', 'арбуз', 'батон', 'йогурт', 'сливки', 'гречка', 'овсянка', 'макароны', 'баранина', 'апельсины', 'бублики', 'хлеб', 'горох', 'сметана', 'рыба копченая', 'мука', 'шпроты', 'сосиски', 'свинина', 'рис', 'масло кунжутное', 'сгущенка', 'ананас', 'говядина', 'соль', 'рыба вяленая', 'масло подсолнечное', 'яблоки', 'груши', 'лепешка', 'молоко', 'курица', 'лаваш', 'вафли', 'мандарины') THEN round(price / 110 * 10, 2)\n",
    "        ELSE round(price / 120 * 20, 2) \n",
    "        END AS tax,\n",
    "       \n",
    "    CASE \n",
    "        WHEN name IN ('сахар', 'сухарики', 'сушки', 'семечки', 'масло льняное', 'виноград', 'масло оливковое', 'арбуз', 'батон', 'йогурт', 'сливки', 'гречка', 'овсянка', 'макароны', 'баранина', 'апельсины', 'бублики', 'хлеб', 'горох', 'сметана', 'рыба копченая', 'мука', 'шпроты', 'сосиски', 'свинина', 'рис', 'масло кунжутное', 'сгущенка', 'ананас', 'говядина', 'соль', 'рыба вяленая', 'масло подсолнечное', 'яблоки', 'груши', 'лепешка', 'молоко', 'курица', 'лаваш', 'вафли', 'мандарины') THEN round(price - price / 110 * 10, 2)\n",
    "        ELSE round(price - price / 120 * 20, 2) \n",
    "        END AS price_before_tax\n",
    "FROM   products\n",
    "ORDER BY price_before_tax DESC, product_id;                                                                                                                                        \n",
    "```"
   ]
  },
  {
   "cell_type": "code",
   "execution_count": null,
   "id": "d3718d3f-9c63-427d-ae53-e204aa7b2ff0",
   "metadata": {},
   "outputs": [],
   "source": []
  }
 ],
 "metadata": {
  "kernelspec": {
   "display_name": "Python 3 (ipykernel)",
   "language": "python",
   "name": "python3"
  },
  "language_info": {
   "codemirror_mode": {
    "name": "ipython",
    "version": 3
   },
   "file_extension": ".py",
   "mimetype": "text/x-python",
   "name": "python",
   "nbconvert_exporter": "python",
   "pygments_lexer": "ipython3",
   "version": "3.12.4"
  }
 },
 "nbformat": 4,
 "nbformat_minor": 5
}
