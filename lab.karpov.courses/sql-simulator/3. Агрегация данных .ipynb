{
 "cells": [
  {
   "cell_type": "markdown",
   "id": "e2bb7a54-8a76-4bb2-8ab7-fcfa44f56101",
   "metadata": {},
   "source": [
    "# Агрегация данных"
   ]
  },
  {
   "cell_type": "markdown",
   "id": "f29f8857-981d-4694-b492-d98af6672184",
   "metadata": {},
   "source": [
    "**Задание №1**\n",
    "\n",
    "Выведите id всех уникальных пользователей из таблицы **user_actions**. Результат отсортируйте по возрастанию id.\n",
    "\n",
    "Поле в результирующей таблице: **user_id**\n",
    "```sql\n",
    "SELECT DISTINCT user_id\n",
    "FROM user_actions\n",
    "ORDER BY user_id\n",
    "```"
   ]
  },
  {
   "cell_type": "markdown",
   "id": "a63e84f6-aae6-41af-a095-fad7f743831c",
   "metadata": {},
   "source": [
    "**Задание №2**\n",
    "\n",
    "Примените **DISTINCT** сразу к двум колонкам таблицы **courier_actions** и отберите уникальные пары значений **courier_id** и **order_id**.\n",
    "\n",
    "Результат отсортируйте сначала по возрастанию id курьера, затем по возрастанию id заказа.\n",
    "\n",
    "Поля в результирующей таблице: **courier_id**, **order_id**\n",
    "```sql\n",
    "SELECT DISTINCT courier_id,\n",
    "                order_id\n",
    "FROM courier_actions\n",
    "ORDER BY courier_id, order_id\n",
    "```"
   ]
  },
  {
   "cell_type": "markdown",
   "id": "a7944898-c3b4-4b67-aa04-89ec8b47ba20",
   "metadata": {},
   "source": [
    "**Задание №3**\n",
    "\n",
    "Посчитайте максимальную и минимальную цены товаров в таблице **products**. Поля назовите соответственно **max_price**, **min_price**.\n",
    "\n",
    "Поля в результирующей таблице: **max_price**, **min_price**\n",
    "\n",
    "```sql\n",
    "SELECT MAX(price) AS max_price,\n",
    "       MIN(price) AS min_price\n",
    "FROM products\n",
    "```"
   ]
  },
  {
   "cell_type": "markdown",
   "id": "f68a0d90-c254-4579-9752-65a70a92d93e",
   "metadata": {},
   "source": [
    "**Задание №4**\n",
    "\n",
    "Как вы помните, в таблице users у некоторых пользователей не были указаны их даты рождения.\n",
    "\n",
    "Посчитайте в одном запросе количество всех записей в таблице и количество только тех записей, для которых в колонке **birth_date** указана дата рождения.\n",
    "\n",
    "Колонку с общим числом записей назовите **dates**, а колонку с записями без пропусков — **dates_not_null**.\n",
    "\n",
    "Поля в результирующей таблице: **dates**, **dates_not_null**\n",
    "```sql\n",
    "SELECT COUNT(*) AS dates,\n",
    "       COUNT(birth_date) AS dates_not_null\n",
    "FROM users\n",
    "```"
   ]
  },
  {
   "cell_type": "markdown",
   "id": "cc2d5fbf-a101-4aae-9d2f-b61481361c9a",
   "metadata": {},
   "source": [
    "**Задание №5**\n",
    "\n",
    "Посчитайте количество всех значений в колонке **user_id** в таблице **user_actions**, а также количество уникальных значений в этой колонке (т.е. количество уникальных пользователей сервиса).\n",
    "\n",
    "Колонку с первым полученным значением назовите users, а колонку со вторым — **unique_users**.\n",
    "\n",
    "Поля в результирующей таблице: **users**, **unique_users**\n",
    "```sql\n",
    "SELECT COUNT(DISTINCT user_id) AS unique_users,\n",
    "       COUNT(user_id) AS users\n",
    "FROM user_actions\n",
    "```"
   ]
  },
  {
   "cell_type": "markdown",
   "id": "606fc521-f12a-4ed0-933e-46774e5091de",
   "metadata": {},
   "source": [
    "**Задание №6**\n",
    "\n",
    "Посчитайте количество курьеров женского пола в таблице **couriers**. Полученный столбец с одним значением назовите **couriers**.\n",
    "\n",
    "Поле в результирующей таблице: **couriers**\n",
    "```sql\n",
    "SELECT COUNT(courier_id) AS couriers\n",
    "FROM couriers\n",
    "WHERE sex = 'female'\n",
    "```"
   ]
  },
  {
   "cell_type": "markdown",
   "id": "a4ad53b1-a3a0-4d81-a185-35cd93c50d84",
   "metadata": {},
   "source": [
    "**Задание №7**\n",
    "\n",
    "Рассчитайте время, когда были совершены первая и последняя доставки заказов в таблице **courier_actions**.\n",
    "\n",
    "Колонку с временем первой доставки назовите **first_delivery**, а колонку с временем последней — **last_delivery**.\n",
    "\n",
    "Поля в результирующей таблице: **first_delivery**, **last_delivery**\n",
    "```sql\n",
    "SELECT MIN(time) AS first_delivery,\n",
    "       MAX(time) AS last_delivery\n",
    "FROM courier_actions\n",
    "WHERE  action = 'deliver_order'\n",
    "```"
   ]
  },
  {
   "cell_type": "markdown",
   "id": "ada127e5-ba8b-48d5-a616-d68bb085dd58",
   "metadata": {},
   "source": [
    "**Задание №8**\n",
    "\n",
    "Представьте, что один из пользователей сервиса сделал заказ, в который вошли одна пачка сухариков, одна пачка чипсов и один энергетический напиток. Посчитайте стоимость такого заказа.\n",
    "\n",
    "Колонку с рассчитанной стоимостью заказа назовите **order_price**.\n",
    "\n",
    "Для расчётов используйте таблицу **products**.\n",
    "\n",
    "Поле в результирующей таблице: **order_price**\n",
    "```sql\n",
    "SELECT SUM(price) AS order_price\n",
    "FROM   products\n",
    "WHERE  name IN('сухарики','чипсы','энергетический напиток')\n",
    "```"
   ]
  },
  {
   "cell_type": "markdown",
   "id": "98c34026-0b75-473b-a81d-3f63422ea5ff",
   "metadata": {},
   "source": [
    "**Задание №9**\n",
    "\n",
    "Посчитайте количество заказов в таблице **orders** с девятью и более товарами. Для этого воспользуйтесь функцией **array_length**, отфильтруйте данные по количеству товаров в заказе и проведите агрегацию. Полученный столбец назовите orders.\n",
    "\n",
    "Поле в результирующей таблице: **orders**\n",
    "```sql\n",
    "SELECT COUNT(ARRAY_LENGTH(product_ids, 1)) AS orders\n",
    "FROM orders\n",
    "WHERE ARRAY_LENGTH(product_ids, 1) >= 9\n",
    "```"
   ]
  },
  {
   "cell_type": "markdown",
   "id": "7f8ec29c-58cf-4c6f-b11a-6206dc20da80",
   "metadata": {},
   "source": [
    "**Задание №10**\n",
    "\n",
    "С помощью функции **AGE** и агрегирующей функции рассчитайте возраст самого молодого курьера мужского пола в таблице **couriers**.\n",
    "\n",
    "Возраст выразите количеством лет, месяцев и дней (как в примере выше), переведя его в тип **VARCHAR**. \n",
    "\n",
    "В качестве даты, относительно которой считать возраст курьеров, используйте свою текущую дату (либо не указывайте её на месте первого аргумента, как показано в примерах).\n",
    "\n",
    "Полученную колонку со значением возраста назовите **min_age**.\n",
    "\n",
    "Поле в результирующей таблице: **min_age**\n",
    "```sql\n",
    "SELECT AGE(CURRENT_DATE, MAX(birth_date)) :: varchar as min_age\n",
    "FROM couriers\n",
    "WHERE sex = 'male'\n",
    "```"
   ]
  },
  {
   "cell_type": "markdown",
   "id": "3937720e-5021-49ad-a187-f9b36f1d0110",
   "metadata": {},
   "source": [
    "**Задание №11**\n",
    "\n",
    "Посчитайте стоимость заказа, в котором будут три пачки сухариков, две пачки чипсов и один энергетический напиток. Колонку с рассчитанной стоимостью заказа назовите **order_price**.\n",
    "\n",
    "Для расчётов используйте таблицу **products**.\n",
    "\n",
    "Поле в результирующей таблице: **order_price**\n",
    "```sql\n",
    "SELECT SUM(CASE WHEN name = 'сухарики' THEN price * 3\n",
    "                WHEN name = 'чипсы' THEN price * 2\n",
    "                WHEN name = 'энергетический напиток' THEN price * 1 \n",
    "                END) AS order_price\n",
    "FROM products\n",
    "```"
   ]
  },
  {
   "cell_type": "markdown",
   "id": "66263c84-f0d8-43a0-94fe-d569349cdeca",
   "metadata": {},
   "source": [
    "**Задание №12**\n",
    "\n",
    "Рассчитайте среднюю цену товаров в таблице **products**, в названиях которых присутствуют слова «чай» или «кофе». Любым известным способом исключите из расчёта товары, содержащие в названии «иван-чай» или «чайный гриб».\n",
    "\n",
    "Среднюю цену округлите до двух знаков после запятой. Столбец с полученным значением назовите **avg_price**.\n",
    "\n",
    "Поле в результирующей таблице: **avg_price**\n",
    "```sql\n",
    "SELECT round(avg(price), 2) AS avg_price\n",
    "FROM   products\n",
    "WHERE  (name LIKE '%чай%'\n",
    "    OR name LIKE '%кофе%')\n",
    "   AND name NOT LIKE '%иван-чай%'\n",
    "   AND name NOT LIKE '%гриб%'\n",
    "```"
   ]
  },
  {
   "cell_type": "markdown",
   "id": "eb8a29f1-beaa-4814-bb68-79d0e200a553",
   "metadata": {},
   "source": [
    "**Задание №13**\n",
    "\n",
    "Воспользуйтесь функцией **AGE** и рассчитайте разницу в возрасте между самым старым и самым молодым пользователями мужского пола в таблице **users**. \n",
    "\n",
    "Разницу в возрасте выразите количеством лет, месяцев и дней, переведя её в тип **VARCHAR**. \n",
    "\n",
    "Колонку с посчитанным значением назовите **age_diff**.\n",
    "\n",
    "Поле в результирующей таблице: **age_diff**\n",
    "\n",
    "\n",
    "```sql\n",
    "SELECT AGE(MAX(birth_date), MIN(birth_date)) :: varchar as age_diff\n",
    "FROM users\n",
    "```"
   ]
  },
  {
   "cell_type": "markdown",
   "id": "f4c573b8-566c-4249-96db-4d6030898183",
   "metadata": {},
   "source": [
    "**Задание №14**\n",
    "\n",
    "Рассчитайте среднее количество товаров в заказах из таблицы orders, которые пользователи оформляли по выходным дням (суббота и воскресенье) в течение всего времени работы сервиса.\n",
    "\n",
    "Полученное значение округлите до двух знаков после запятой. Колонку с ним назовите **avg_order_size**.\n",
    "\n",
    "Поле в результирующей таблице: **avg_order_size**\n",
    "```sql\n",
    "SELECT ROUND(AVG(ARRAY_LENGTH(product_ids, 1)), 2) AS avg_order_size\n",
    "FROM orders\n",
    "WHERE DATE_PART('DOW', creation_time) IN(6, 0)\n",
    "```"
   ]
  },
  {
   "cell_type": "markdown",
   "id": "4d72cd72-63a5-4d7d-a331-5e07e2b52ce0",
   "metadata": {},
   "source": [
    "**Задание №15**\n",
    "\n",
    "На основе данных в таблице **user_actions** посчитайте количество уникальных пользователей сервиса, количество уникальных заказов, поделите одно на другое и выясните, сколько заказов приходится на одного пользователя.\n",
    "\n",
    "В результирующей таблице отразите все три значения — поля назовите соответственно **unique_users**, **unique_orders**, **orders_per_user**.\n",
    "\n",
    "Показатель числа заказов на пользователя округлите до двух знаков после запятой.\n",
    "\n",
    "Поля в результирующей таблице: **unique_users**, **unique_orders**, **orders_per_user**\n",
    "```sql\n",
    "SELECT COUNT(DISTINCT(user_id)) AS unique_users,\n",
    "       COUNT(DISTINCT(order_id)) AS unique_orders,\n",
    "       ROUND(COUNT(DISTINCT order_id)::decimal/COUNT(DISTINCT user_id),2) AS orders_per_user\n",
    "FROM user_actions\n",
    "```"
   ]
  },
  {
   "cell_type": "markdown",
   "id": "7aed2c4d-a57c-4c8b-bce5-5d3ad6e836aa",
   "metadata": {},
   "source": [
    "**Задание №16**\n",
    "\n",
    "Посчитайте, сколько пользователей никогда не отменяли свой заказ. Для этого из общего числа всех уникальных пользователей отнимите число уникальных пользователей, которые хотя бы раз отменяли заказ. Подумайте, какое условие необходимо указать в **FILTER**, чтобы получить корректный результат.\n",
    "\n",
    "Полученный столбец назовите **users_count**.\n",
    "\n",
    "Поле в результирующей таблице: **users_count**\n",
    "```sql\n",
    "SELECT (COUNT(DISTINCT user_id) - COUNT(DISTINCT user_id) filter (WHERE action = 'cancel_order')) as users_count\n",
    "FROM user_actions\n",
    "```"
   ]
  },
  {
   "cell_type": "markdown",
   "id": "77e9cdd1-d940-4028-b8fd-c399b2b3b793",
   "metadata": {},
   "source": [
    "**Задание №17**\n",
    "\n",
    "Посчитайте общее количество заказов в таблице **orders**, количество заказов с пятью и более товарами и найдите долю заказов с пятью и более товарами в общем количестве заказов.\n",
    "\n",
    "В результирующей таблице отразите все три значения — поля назовите соответственно **orders**, **large_orders**, **large_orders_share**.\n",
    "\n",
    "Долю заказов с пятью и более товарами в общем количестве товаров округлите до двух знаков после запятой.\n",
    "\n",
    "Поля в результирующей таблице: **orders**, **large_orders**, **large_orders_share**\n",
    "```sql\n",
    "SELECT COUNT(order_id) AS orders,\n",
    "       COUNT(product_ids) filter (WHERE (ARRAY_LENGTH(product_ids, 1) >= 5)) AS large_orders,\n",
    "       ROUND(COUNT(order_id) filter (WHERE ARRAY_LENGTH(product_ids, 1) >= 5)/COUNT(order_id)::decimal,2) as large_orders_share\n",
    "FROM orders\n",
    "```"
   ]
  },
  {
   "cell_type": "code",
   "execution_count": null,
   "id": "7673ec71-33a7-4740-8021-b5035b492718",
   "metadata": {},
   "outputs": [],
   "source": []
  }
 ],
 "metadata": {
  "kernelspec": {
   "display_name": "Python 3 (ipykernel)",
   "language": "python",
   "name": "python3"
  },
  "language_info": {
   "codemirror_mode": {
    "name": "ipython",
    "version": 3
   },
   "file_extension": ".py",
   "mimetype": "text/x-python",
   "name": "python",
   "nbconvert_exporter": "python",
   "pygments_lexer": "ipython3",
   "version": "3.12.4"
  }
 },
 "nbformat": 4,
 "nbformat_minor": 5
}
